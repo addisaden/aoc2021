{
 "cells": [
  {
   "cell_type": "markdown",
   "id": "e052db30-c821-47e2-b37f-ba71cfc3284d",
   "metadata": {},
   "source": [
    "# [Advent of code 2021](https://adventofcode.com/2021/day/2)\n",
    "\n",
    "## Day 2: Dive!\n",
    "\n",
    "Now, you need to figure out how to pilot this thing.\n",
    "\n",
    "It seems like the submarine can take a series of commands like `forward 1`, `down 2`, or `up 3`:\n",
    "\n",
    "* ´forward X´ increases the horizontal position by ´X´ units.\n",
    "* ´down X´ increases the depth by X units.\n",
    "* ´up X´ decreases the depth by X units.\n",
    "\n",
    "Note that since you're on a submarine, down and up affect your depth, and so they have the opposite result of what you might expect.\n",
    "\n",
    "The submarine seems to already have a planned course (your puzzle input). You should probably figure out where it's going. For example:\n",
    "\n",
    "```\n",
    "forward 5\n",
    "down 5\n",
    "forward 8\n",
    "up 3\n",
    "down 8\n",
    "forward 2\n",
    "```\n",
    "\n",
    "Your horizontal position and depth both start at 0. The steps above would then modify them as follows:\n",
    "\n",
    "\n",
    "* ´forward 5´ adds ´5´ to your horizontal position, a total of ´5´.\n",
    "* ´down 5´ adds ´5´ to your depth, resulting in a value of ´5´.\n",
    "* ´forward 8´ adds ´8´ to your horizontal position, a total of ´13´.\n",
    "* ´up 3´ decreases your depth by ´3´, resulting in a value of ´2´.\n",
    "* ´down 8´ adds ´8´ to your depth, resulting in a value of ´10´.\n",
    "* ´forward 2´ adds ´2´ to your horizontal position, a total of ´15´.\n",
    "\n",
    "After following these instructions, you would have a horizontal position of ´15´ and a depth of ´10´. (Multiplying these together produces ´150´.)\n",
    "\n",
    "Calculate the horizontal position and depth you would have after following the planned course. *What do you get if you multiply your final horizontal position by your final depth?*"
   ]
  }
 ],
 "metadata": {
  "kernelspec": {
   "display_name": "Python 3 (ipykernel)",
   "language": "python",
   "name": "python3"
  },
  "language_info": {
   "codemirror_mode": {
    "name": "ipython",
    "version": 3
   },
   "file_extension": ".py",
   "mimetype": "text/x-python",
   "name": "python",
   "nbconvert_exporter": "python",
   "pygments_lexer": "ipython3",
   "version": "3.9.7"
  }
 },
 "nbformat": 4,
 "nbformat_minor": 5
}
