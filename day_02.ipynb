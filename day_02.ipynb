{
 "cells": [
  {
   "cell_type": "markdown",
   "id": "e052db30-c821-47e2-b37f-ba71cfc3284d",
   "metadata": {
    "tags": []
   },
   "source": [
    "# [Advent of code 2021](https://adventofcode.com/2021/day/2)\n",
    "\n",
    "## Day 2: Dive!\n",
    "\n",
    "[Story](https://adventofcode.com/2021/day/2)\n",
    "\n",
    "Control the submarine.\n",
    "\n",
    "In example `forward 1`, `down 2`, or `up 3`:\n",
    "\n",
    "* ´forward X´ increases the horizontal position by ´X´ units.\n",
    "* ´down X´ increases the depth by X units.\n",
    "* ´up X´ decreases the depth by X units.\n",
    "\n",
    "Note: The depth is inverted to height.\n",
    "\n",
    "Example:\n",
    "\n",
    "```\n",
    "forward 5\n",
    "down 5\n",
    "forward 8\n",
    "up 3\n",
    "down 8\n",
    "forward 2\n",
    "```\n",
    "\n",
    "horizontal and depth position start with 0.\n",
    "\n",
    "The example calculated:\n",
    "\n",
    "* ´forward 5´ adds ´5´ to your horizontal position, a total of ´5´.\n",
    "* ´down 5´ adds ´5´ to your depth, resulting in a value of ´5´.\n",
    "* ´forward 8´ adds ´8´ to your horizontal position, a total of ´13´.\n",
    "* ´up 3´ decreases your depth by ´3´, resulting in a value of ´2´.\n",
    "* ´down 8´ adds ´8´ to your depth, resulting in a value of ´10´.\n",
    "* ´forward 2´ adds ´2´ to your horizontal position, a total of ´15´.\n",
    "\n",
    "The result for horizontal position would be `15` and depth `10`. Multiplied `150`\n",
    "\n",
    "*What do you get if you multiply your final horizontal position by your final depth?*"
   ]
  },
  {
   "cell_type": "code",
   "execution_count": 2,
   "id": "d709a812-f302-4885-86b0-5d7ce21f4506",
   "metadata": {},
   "outputs": [],
   "source": [
    "with open(\"day_02_input.txt\") as f:\n",
    "    puzzle_input_string = f.read()"
   ]
  },
  {
   "cell_type": "markdown",
   "id": "d7a5fc82-bce8-4644-be3d-696d45b63950",
   "metadata": {},
   "source": [
    "Split the input into a list with tuples of format `[(string, int), ...]`"
   ]
  },
  {
   "cell_type": "code",
   "execution_count": 3,
   "id": "8e650769-777b-4b74-b153-83bc580133f5",
   "metadata": {},
   "outputs": [
    {
     "data": {
      "text/plain": [
       "('forward', 6)"
      ]
     },
     "execution_count": 3,
     "metadata": {},
     "output_type": "execute_result"
    }
   ],
   "source": [
    "puzzle_input = []\n",
    "for line in puzzle_input_string.strip().split(\"\\n\"):\n",
    "    command, value = line.split(\" \")\n",
    "    puzzle_input.append((command, int(value)))\n",
    "puzzle_input[0]"
   ]
  },
  {
   "cell_type": "code",
   "execution_count": 4,
   "id": "9f7e967b-4efc-45fa-8f11-ecf109452091",
   "metadata": {},
   "outputs": [
    {
     "name": "stdout",
     "output_type": "stream",
     "text": [
      "{'horizontal': 1962, 'depth': 987} result 1936494\n"
     ]
    }
   ],
   "source": [
    "position = {\n",
    "    \"horizontal\": 0,\n",
    "    \"depth\": 0,\n",
    "}\n",
    "\n",
    "def down(val, times):\n",
    "    val[\"depth\"] += times\n",
    "    return val\n",
    "\n",
    "def up(val, times):\n",
    "    return down(val, -times)\n",
    "    \n",
    "def forward(val, times):\n",
    "    val[\"horizontal\"] += times\n",
    "    return val\n",
    "\n",
    "commands = {\n",
    "    \"forward\": forward,\n",
    "    \"up\": up,\n",
    "    \"down\": down,\n",
    "}\n",
    "\n",
    "for instruction, times in puzzle_input:\n",
    "    position = commands[instruction](position, times)\n",
    "\n",
    "print(position, \"result\", position[\"horizontal\"] * position[\"depth\"])"
   ]
  },
  {
   "cell_type": "markdown",
   "id": "aa1f6d49-7198-4666-a3b5-cfeaff5fc83b",
   "metadata": {},
   "source": [
    "## Part 2\n",
    "\n",
    "The control of the submarine is not correct. We need to calculate `aim`.\n",
    "\n",
    "`aim` starts also at 0\n",
    "\n",
    "* `down x` *increases* `aim` by `x`\n",
    "* `up x` *decreases* `aim` by `x`\n",
    "* `forward x`:\n",
    "    * *increase* horizontal by `x`\n",
    "    * *increases* depth by `aim * x`\n",
    "    \n",
    "Again a note that depth in inverted.\n",
    "\n",
    "Calculation for above example:\n",
    "\n",
    "\n",
    "* forward 5 adds 5 to your horizontal position, a total of 5. Because your aim is 0, your depth does not change.\n",
    "* down 5 adds 5 to your aim, resulting in a value of 5.\n",
    "* forward 8 adds 8 to your horizontal position, a total of 13. Because your aim is 5, your depth increases by 8*5=40.\n",
    "* up 3 decreases your aim by 3, resulting in a value of 2.\n",
    "* down 8 adds 8 to your aim, resulting in a value of 10.\n",
    "* forward 2 adds 2 to your horizontal position, a total of 15. Because your aim is 10, your depth increases by 2*10=20 to a total of 60.\n",
    "\n",
    "horizontal position of `15`, depth of `60`. Solution would be `900`"
   ]
  },
  {
   "cell_type": "code",
   "execution_count": 5,
   "id": "e521ca9c-ff85-4385-b7ab-161df9f2ffee",
   "metadata": {},
   "outputs": [
    {
     "name": "stdout",
     "output_type": "stream",
     "text": [
      "{'horizontal': 1962, 'depth': 1017893, 'aim': 987} result 1997106066\n"
     ]
    }
   ],
   "source": [
    "position = {\n",
    "    \"horizontal\": 0,\n",
    "    \"depth\": 0,\n",
    "    \"aim\": 0,\n",
    "}\n",
    "\n",
    "def down(val, times):\n",
    "    val[\"aim\"] += times\n",
    "    return val\n",
    "\n",
    "def up(val, times):\n",
    "    return down(val, -times)\n",
    "    \n",
    "def forward(val, times):\n",
    "    val[\"horizontal\"] += times\n",
    "    val[\"depth\"] += val[\"aim\"] * times\n",
    "    return val\n",
    "\n",
    "commands = {\n",
    "    \"forward\": forward,\n",
    "    \"up\": up,\n",
    "    \"down\": down,\n",
    "}\n",
    "\n",
    "for instruction, times in puzzle_input:\n",
    "    position = commands[instruction](position, times)\n",
    "\n",
    "print(position, \"result\", position[\"horizontal\"] * position[\"depth\"])"
   ]
  }
 ],
 "metadata": {
  "kernelspec": {
   "display_name": "Python 3 (ipykernel)",
   "language": "python",
   "name": "python3"
  },
  "language_info": {
   "codemirror_mode": {
    "name": "ipython",
    "version": 3
   },
   "file_extension": ".py",
   "mimetype": "text/x-python",
   "name": "python",
   "nbconvert_exporter": "python",
   "pygments_lexer": "ipython3",
   "version": "3.9.7"
  }
 },
 "nbformat": 4,
 "nbformat_minor": 5
}
