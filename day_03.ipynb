{
 "cells": [
  {
   "cell_type": "markdown",
   "id": "0cb23533-a9a3-4656-91d7-03ed87ec4091",
   "metadata": {},
   "source": [
    "# Advent of code 2021\n",
    "\n",
    "## Day 3 - Binary Diagnostic\n",
    "\n",
    "[Story of the day](https://adventofcode.com/2021/day/3)\n",
    "\n",
    "Create a diagnostic report for the submarine.\n",
    "\n",
    "The diagnostic report (`input_data`) is only binary data.\n",
    "\n",
    "With the binary data there come 2 new datastreams.\n",
    "\n",
    "`gamma rate` and `epsilon rate`\n",
    "\n",
    "The solution is the multiplication of these rates.\n",
    "\n",
    "Example input\n",
    "\n",
    "```\n",
    "00100\n",
    "11110\n",
    "10110\n",
    "10111\n",
    "10101\n",
    "01111\n",
    "00111\n",
    "11100\n",
    "10000\n",
    "11001\n",
    "00010\n",
    "01010\n",
    "```\n",
    "\n",
    "The gamma `10110`, in decimal `22`, is the most common bit from each *column*.\n",
    "\n",
    "The epsilon rate is the least common bits: `01001`, in decimal `9`\n",
    "\n",
    "The solution is `22 * 9 = 198`"
   ]
  },
  {
   "cell_type": "code",
   "execution_count": 1,
   "id": "bcaac2c2-7a74-46b9-82f2-98b576537cf0",
   "metadata": {},
   "outputs": [
    {
     "data": {
      "text/plain": [
       "['101011111001', '111111011110']"
      ]
     },
     "execution_count": 1,
     "metadata": {},
     "output_type": "execute_result"
    }
   ],
   "source": [
    "with open(\"day_03_input.txt\") as f:\n",
    "    input_data = f.read().strip().split(\"\\n\")\n",
    "\n",
    "input_data[0:2]"
   ]
  },
  {
   "cell_type": "code",
   "execution_count": 6,
   "id": "bcf096c8-f671-45f8-9764-2a3258793907",
   "metadata": {},
   "outputs": [
    {
     "data": {
      "text/plain": [
       "3882564"
      ]
     },
     "execution_count": 6,
     "metadata": {},
     "output_type": "execute_result"
    }
   ],
   "source": [
    "result = []\n",
    "\n",
    "for char_position in range(len(input_data[0])):\n",
    "    result.append([0, 0])\n",
    "    \n",
    "    for input_row in input_data:\n",
    "        result[char_position][int(input_row[char_position])] += 1\n",
    "\n",
    "gamma = \"0b\"\n",
    "epsilon = \"0b\"\n",
    "\n",
    "for bit_result in result:\n",
    "    if bit_result[0] >= bit_result[1]:\n",
    "        gamma += \"0\"\n",
    "        epsilon += \"1\"\n",
    "    else:\n",
    "        gamma += \"1\"\n",
    "        epsilon += \"0\"\n",
    "\n",
    "int(gamma, 2) * int(epsilon, 2)"
   ]
  }
 ],
 "metadata": {
  "kernelspec": {
   "display_name": "Python 3 (ipykernel)",
   "language": "python",
   "name": "python3"
  },
  "language_info": {
   "codemirror_mode": {
    "name": "ipython",
    "version": 3
   },
   "file_extension": ".py",
   "mimetype": "text/x-python",
   "name": "python",
   "nbconvert_exporter": "python",
   "pygments_lexer": "ipython3",
   "version": "3.9.7"
  }
 },
 "nbformat": 4,
 "nbformat_minor": 5
}
