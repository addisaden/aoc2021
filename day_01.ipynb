{
 "cells": [
  {
   "cell_type": "markdown",
   "id": "689a5e5a-b665-4cb4-a743-5b3f0a67db02",
   "metadata": {},
   "source": [
    "# [Advent of code 2021 - Story](https://adventofcode.com/2021/day/1)\n",
    "\n",
    "## Day 1: Sonar Sweep\n",
    "\n",
    "[Story](https://adventofcode.com/2021/day/1)\n",
    "\n",
    "Sonar signals\n",
    "\n",
    "```\n",
    "199\n",
    "200\n",
    "208\n",
    "210\n",
    "200\n",
    "207\n",
    "240\n",
    "269\n",
    "260\n",
    "263\n",
    "```\n",
    "\n",
    "The depths of the sonar is in a row `199`, `200`, `208`, `210`, and so on.\n",
    "\n",
    "To go forward the number has to increase.\n",
    "\n",
    "*count the number of times a depth measurement increases* from the previous measurement.\n",
    "\n",
    "Example:\n",
    "\n",
    "```\n",
    "199 (N/A - no previous measurement)\n",
    "200 (increased)\n",
    "208 (increased)\n",
    "210 (increased)\n",
    "200 (decreased)\n",
    "207 (increased)\n",
    "240 (increased)\n",
    "269 (increased)\n",
    "260 (decreased)\n",
    "263 (increased)\n",
    "```\n",
    "\n",
    "`7` the measurement increases.\n",
    "\n",
    "*How many measurements are larger than the previous measurement?*"
   ]
  },
  {
   "cell_type": "code",
   "execution_count": 5,
   "id": "48b48859-ed9d-4fa0-98f1-db7d09f80501",
   "metadata": {
    "tags": []
   },
   "outputs": [],
   "source": [
    "with open(\"day_01_input.txt\") as f:\n",
    "    puzzle_input_string = f.read()"
   ]
  },
  {
   "cell_type": "code",
   "execution_count": 6,
   "id": "70414f1c-342d-40b7-b122-72a551b6723e",
   "metadata": {
    "tags": []
   },
   "outputs": [],
   "source": [
    "puzzle_input = puzzle_input_string.strip().split(\"\\n\")\n",
    "puzzle_input = list(map(int, puzzle_input))"
   ]
  },
  {
   "cell_type": "code",
   "execution_count": 7,
   "id": "b8c0111c-6340-4508-a053-46f6abb8d69a",
   "metadata": {},
   "outputs": [
    {
     "name": "stdout",
     "output_type": "stream",
     "text": [
      "How many measurements are larger than the previous measurement? 1374\n"
     ]
    }
   ],
   "source": [
    "solution = 0\n",
    "last_value = None\n",
    "for sonar in puzzle_input:\n",
    "    if last_value is None:\n",
    "        last_value = sonar\n",
    "        continue\n",
    "    if sonar > last_value:\n",
    "        solution += 1\n",
    "    last_value = sonar\n",
    "print(\"How many measurements are larger than the previous measurement?\", solution)"
   ]
  },
  {
   "cell_type": "markdown",
   "id": "03031f2c-3172-45b1-801a-e745fa715c24",
   "metadata": {},
   "source": [
    "## Day 1: Part Two\n",
    "\n",
    "\n",
    "There is distortion in the signals. Bundle 3 values together.\n",
    "\n",
    "```\n",
    "199  A      \n",
    "200  A B    \n",
    "208  A B C  \n",
    "210    B C D\n",
    "200  E   C D\n",
    "207  E F   D\n",
    "240  E F G  \n",
    "269    F G H\n",
    "260      G H\n",
    "263        H\n",
    "```\n",
    "\n",
    "Sum the bundles to remove the distortion: `A` (`199`, `200`, `208`) sum: `199 + 200 + 208 = 607`\n",
    "\n",
    "`B` (`200`, `208`, `210`) sum to `618`\n",
    "\n",
    "From `A` to `B` the value increased.\n",
    "\n",
    "```\n",
    "A: 607 (N/A - no previous sum)\n",
    "B: 618 (increased)\n",
    "C: 618 (no change)\n",
    "D: 617 (decreased)\n",
    "E: 647 (increased)\n",
    "F: 716 (increased)\n",
    "G: 769 (increased)\n",
    "H: 792 (increased)\n",
    "```\n",
    "\n",
    "In the example `5` measurements increased.\n",
    "\n",
    "*How many sums are larger than the previous sum?*"
   ]
  },
  {
   "cell_type": "code",
   "execution_count": 11,
   "id": "a94c7634-1068-4265-8e39-548208a16e54",
   "metadata": {},
   "outputs": [
    {
     "name": "stdout",
     "output_type": "stream",
     "text": [
      "How many sums are larger than the previous sum? 1418\n"
     ]
    }
   ],
   "source": [
    "from functools import reduce\n",
    "\n",
    "solution = 0\n",
    "last_value = None\n",
    "\n",
    "for sonar_id in range(len(puzzle_input) - 2):\n",
    "    # collect the triple\n",
    "    sonar = puzzle_input[sonar_id:sonar_id+3]\n",
    "    # sum the values up\n",
    "    sonar = reduce(lambda a, b: a + b, sonar)\n",
    "    # the first value didn't count\n",
    "    if last_value is None:\n",
    "        last_value = sonar\n",
    "        continue\n",
    "    # count this up if sum is larger than previous one\n",
    "    if sonar > last_value:\n",
    "        solution += 1\n",
    "        \n",
    "    last_value = sonar\n",
    "\n",
    "print(\"How many sums are larger than the previous sum?\", solution)"
   ]
  }
 ],
 "metadata": {
  "kernelspec": {
   "display_name": "Python 3 (ipykernel)",
   "language": "python",
   "name": "python3"
  },
  "language_info": {
   "codemirror_mode": {
    "name": "ipython",
    "version": 3
   },
   "file_extension": ".py",
   "mimetype": "text/x-python",
   "name": "python",
   "nbconvert_exporter": "python",
   "pygments_lexer": "ipython3",
   "version": "3.9.7"
  }
 },
 "nbformat": 4,
 "nbformat_minor": 5
}
