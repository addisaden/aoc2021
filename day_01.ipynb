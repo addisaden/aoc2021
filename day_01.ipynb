{
 "cells": [
  {
   "cell_type": "markdown",
   "id": "689a5e5a-b665-4cb4-a743-5b3f0a67db02",
   "metadata": {},
   "source": [
    "# Advent of code 2021\n",
    "\n",
    "## Day 1: Sonar Sweep\n",
    "\n",
    "You're minding your own business on a ship at sea when the overboard alarm goes off! You rush to see if you can help. Apparently, one of the Elves tripped and accidentally sent the sleigh keys flying into the ocean!\n",
    "\n",
    "Before you know it, you're inside a submarine the Elves keep ready for situations like this. It's covered in Christmas lights (because of course it is), and it even has an experimental antenna that should be able to track the keys if you can boost its signal strength high enough; there's a little meter that indicates the antenna's signal strength by displaying 0-50 *stars*.\n",
    "\n",
    "Your instincts tell you that in order to save Christmas, you'll need to get all *fifty stars* by December 25th.\n",
    "\n",
    "Collect stars by solving puzzles. Two puzzles will be made available on each day in the Advent calendar; the second puzzle is unlocked when you complete the first. Each puzzle grants *one star*. Good luck!\n",
    "\n",
    "As the submarine drops below the surface of the ocean, it automatically performs a sonar sweep of the nearby sea floor. On a small screen, the sonar sweep report (your puzzle input) appears: each line is a measurement of the sea floor depth as the sweep looks further and further away from the submarine.\n",
    "\n",
    "For example, suppose you had the following report:\n",
    "\n",
    "```\n",
    "199\n",
    "200\n",
    "208\n",
    "210\n",
    "200\n",
    "207\n",
    "240\n",
    "269\n",
    "260\n",
    "263\n",
    "```\n",
    "\n",
    "This report indicates that, scanning outward from the submarine, the sonar sweep found depths of `199`, `200`, `208`, `210`, and so on.\n",
    "\n",
    "The first order of business is to figure out how quickly the depth increases, just so you know what you're dealing with - you never know if the keys will get carried into deeper water by an ocean current or a fish or something.\n",
    "\n",
    "To do this, *count the number of times a depth measurement increases* from the previous measurement. (There is no measurement before the first measurement.) In the example above, the changes are as follows:\n",
    "\n",
    "```\n",
    "199 (N/A - no previous measurement)\n",
    "200 (increased)\n",
    "208 (increased)\n",
    "210 (increased)\n",
    "200 (decreased)\n",
    "207 (increased)\n",
    "240 (increased)\n",
    "269 (increased)\n",
    "260 (decreased)\n",
    "263 (increased)\n",
    "```\n",
    "\n",
    "In this example, there are `7` measurements that are larger than the previous measurement.\n",
    "\n",
    "*How many measurements are larger than the previous measurement?*"
   ]
  },
  {
   "cell_type": "code",
   "execution_count": 5,
   "id": "48b48859-ed9d-4fa0-98f1-db7d09f80501",
   "metadata": {
    "tags": []
   },
   "outputs": [],
   "source": [
    "with open(\"day_01_input.txt\") as f:\n",
    "    puzzle_input_string = f.read()"
   ]
  },
  {
   "cell_type": "code",
   "execution_count": 6,
   "id": "70414f1c-342d-40b7-b122-72a551b6723e",
   "metadata": {
    "tags": []
   },
   "outputs": [],
   "source": [
    "puzzle_input = puzzle_input_string.strip().split(\"\\n\")\n",
    "puzzle_input = list(map(int, puzzle_input))"
   ]
  },
  {
   "cell_type": "code",
   "execution_count": 7,
   "id": "b8c0111c-6340-4508-a053-46f6abb8d69a",
   "metadata": {},
   "outputs": [
    {
     "name": "stdout",
     "output_type": "stream",
     "text": [
      "How many measurements are larger than the previous measurement? 1374\n"
     ]
    }
   ],
   "source": [
    "solution = 0\n",
    "last_value = None\n",
    "for sonar in puzzle_input:\n",
    "    if last_value is None:\n",
    "        last_value = sonar\n",
    "        continue\n",
    "    if sonar > last_value:\n",
    "        solution += 1\n",
    "    last_value = sonar\n",
    "print(\"How many measurements are larger than the previous measurement?\", solution)"
   ]
  },
  {
   "cell_type": "markdown",
   "id": "03031f2c-3172-45b1-801a-e745fa715c24",
   "metadata": {},
   "source": [
    "## Day 1: Part Two\n",
    "\n",
    "Considering every single measurement isn't as useful as you expected: there's just too much noise in the data.\n",
    "\n",
    "Instead, consider sums of a *three-measurement sliding window*. Again considering the above example:\n",
    "\n",
    "```\n",
    "199  A      \n",
    "200  A B    \n",
    "208  A B C  \n",
    "210    B C D\n",
    "200  E   C D\n",
    "207  E F   D\n",
    "240  E F G  \n",
    "269    F G H\n",
    "260      G H\n",
    "263        H\n",
    "```\n",
    "\n",
    "Start by comparing the first and second three-measurement windows. The measurements in the first window are marked `A` (`199`, `200`, `208`); their sum is `199 + 200 + 208 = 607`. The second window is marked `B` (`200`, `208`, `210`); its sum is `618`. The sum of measurements in the second window is larger than the sum of the first, so this first comparison *increased*.\n",
    "\n",
    "Your goal now is to count *the number of times the sum of measurements in this sliding window increases* from the previous sum. So, compare `A` with `B`, then compare `B` with `C`, then `C` with `D`, and so on. Stop when there aren't enough measurements left to create a new three-measurement sum.\n",
    "\n",
    "In the above example, the sum of each three-measurement window is as follows:\n",
    "\n",
    "```\n",
    "A: 607 (N/A - no previous sum)\n",
    "B: 618 (increased)\n",
    "C: 618 (no change)\n",
    "D: 617 (decreased)\n",
    "E: 647 (increased)\n",
    "F: 716 (increased)\n",
    "G: 769 (increased)\n",
    "H: 792 (increased)\n",
    "```\n",
    "\n",
    "In this example, there are `5` sums that are larger than the previous sum.\n",
    "\n",
    "Consider sums of a three-measurement sliding window. *How many sums are larger than the previous sum?*"
   ]
  }
 ],
 "metadata": {
  "kernelspec": {
   "display_name": "Python 3 (ipykernel)",
   "language": "python",
   "name": "python3"
  },
  "language_info": {
   "codemirror_mode": {
    "name": "ipython",
    "version": 3
   },
   "file_extension": ".py",
   "mimetype": "text/x-python",
   "name": "python",
   "nbconvert_exporter": "python",
   "pygments_lexer": "ipython3",
   "version": "3.9.7"
  }
 },
 "nbformat": 4,
 "nbformat_minor": 5
}
